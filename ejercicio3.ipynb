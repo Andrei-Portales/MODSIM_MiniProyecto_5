{
 "cells": [
  {
   "cell_type": "markdown",
   "metadata": {},
   "source": [
    "## Universidad del Valle de Guatemala\n",
    "\n",
    "Integrantes:\n",
    "- Andrei Portales 19825\n",
    "- Hugo Roman 19199\n"
   ]
  },
  {
   "cell_type": "markdown",
   "metadata": {},
   "source": [
    "## Ejercicio 3"
   ]
  },
  {
   "cell_type": "markdown",
   "metadata": {},
   "source": [
    "Escriba un programa que calcule el valor esperado de una variable aleatoria exponencial utilizando el método\n",
    "estratificado. Escoja tres estratos (intervalos) de 0 a 1, de 1 a 3, y de 3 a infinito."
   ]
  },
  {
   "cell_type": "code",
   "execution_count": 2,
   "metadata": {},
   "outputs": [],
   "source": [
    "import numpy as np"
   ]
  },
  {
   "cell_type": "code",
   "execution_count": 4,
   "metadata": {},
   "outputs": [],
   "source": [
    "# def funcion\n",
    "\n",
    "def straf(n):\n",
    "    data = []\n",
    "    for i in range(n):\n",
    "        r1 = np.random.uniform(0, 0.1, 100)\n",
    "        r2 = np.random.uniform(0.1, 3, 700)\n",
    "        r3 = np.random.uniform(3, 1, 200)\n",
    "\n",
    "        r = np.mean(r1) * 0.1 + np.mean(r2) * 0.2 + np.mean(r3) * 0.7\n",
    "        data.append(r)\n",
    "    return data"
   ]
  },
  {
   "cell_type": "code",
   "execution_count": 7,
   "metadata": {},
   "outputs": [
    {
     "data": {
      "text/plain": [
       "[1.7283092507886422,\n",
       " 1.7576980812957888,\n",
       " 1.6782709847854689,\n",
       " 1.7121569014117686,\n",
       " 1.7370395554986795,\n",
       " 1.7402336200016681,\n",
       " 1.7500714995839413,\n",
       " 1.6767019206807383,\n",
       " 1.7148711869053685,\n",
       " 1.703046777270204,\n",
       " 1.6717849735038066,\n",
       " 1.7204914402014557,\n",
       " 1.7460789675413593,\n",
       " 1.7104707563758028,\n",
       " 1.6968860396098866,\n",
       " 1.6727407745793341,\n",
       " 1.6908273563510507,\n",
       " 1.691555845661014,\n",
       " 1.7267574577419211,\n",
       " 1.707072137810243]"
      ]
     },
     "execution_count": 7,
     "metadata": {},
     "output_type": "execute_result"
    }
   ],
   "source": [
    "straf(20)"
   ]
  }
 ],
 "metadata": {
  "kernelspec": {
   "display_name": "Python 3.9.13 64-bit (microsoft store)",
   "language": "python",
   "name": "python3"
  },
  "language_info": {
   "codemirror_mode": {
    "name": "ipython",
    "version": 3
   },
   "file_extension": ".py",
   "mimetype": "text/x-python",
   "name": "python",
   "nbconvert_exporter": "python",
   "pygments_lexer": "ipython3",
   "version": "3.9.13"
  },
  "orig_nbformat": 4,
  "vscode": {
   "interpreter": {
    "hash": "52fef9f371462526e6c16fbedf2b5b9bc32d90752958a415cf9672d41d7c1c70"
   }
  }
 },
 "nbformat": 4,
 "nbformat_minor": 2
}
